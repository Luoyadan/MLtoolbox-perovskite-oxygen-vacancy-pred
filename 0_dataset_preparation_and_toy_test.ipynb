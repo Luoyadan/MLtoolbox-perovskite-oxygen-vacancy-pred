{
 "cells": [
  {
   "cell_type": "code",
   "execution_count": 14,
   "id": "06c0e3d4",
   "metadata": {},
   "outputs": [],
   "source": [
    "import pandas as pd\n",
    "import pickle\n",
    "\n",
    "from utils import *\n",
    "from sklearn.utils import shuffle"
   ]
  },
  {
   "cell_type": "markdown",
   "id": "d5da0c44",
   "metadata": {},
   "source": [
    "## Processing and Converting Dataset\n",
    "**Reading & Extracting Data**: We start by importing our data from the Excel file located in the `/data` directory. From the imported dataframe, we extract the columns' names and specific rows that is important |for our subsequent operations."
   ]
  },
  {
   "cell_type": "code",
   "execution_count": 15,
   "id": "6b936cab",
   "metadata": {},
   "outputs": [],
   "source": [
    "df = pd.read_excel('data/element.xlsx', sheet_name='Sheet1')\n",
    "element = df.columns.values.tolist()\n",
    "Z = df.iloc[0,:]\n",
    "r = df.iloc[1,:]\n",
    "x = df.iloc[2,:]\n",
    "c = df.iloc[3,:]"
   ]
  },
  {
   "cell_type": "markdown",
   "id": "fff7c287",
   "metadata": {},
   "source": [
    "We will use the convert function from 'utils.py' to perform preprocessing and conversion of raw data. The result will be exported to 'export_data_new.xlsx'."
   ]
  },
  {
   "cell_type": "code",
   "execution_count": 16,
   "id": "70b1e28c",
   "metadata": {},
   "outputs": [],
   "source": [
    "convert(\"data/raw_literature_data_revised.xlsx\", \"Co\", 'data/Co_temperature.xlsx', element, Z, r, x, c)"
   ]
  },
  {
   "cell_type": "markdown",
   "id": "28448104",
   "metadata": {},
   "source": [
    "For clarity in viewing decimal values, we set the display precision to 14 decimal places."
   ]
  },
  {
   "cell_type": "code",
   "execution_count": 17,
   "id": "e6ca3596",
   "metadata": {},
   "outputs": [],
   "source": [
    "pd.set_option('display.precision', 14)"
   ]
  },
  {
   "cell_type": "markdown",
   "id": "5adc10fa",
   "metadata": {},
   "source": [
    "We will import the Co training data from the 'export_data_new.xlsx' file. After loading, we will remove any rows containing null values to ensure data integrity."
   ]
  },
  {
   "cell_type": "code",
   "execution_count": 19,
   "id": "3909fa0c",
   "metadata": {},
   "outputs": [],
   "source": [
    "new_data = pd.read_excel('data/Co_temperature.xlsx')\n",
    "new_data.dropna(axis='rows', inplace=True)"
   ]
  },
  {
   "cell_type": "markdown",
   "id": "98f8a117",
   "metadata": {},
   "source": [
    "**Describing the Data**: Finally, we generate summary statistics of our cleaned data to understand its distribution and characteristics."
   ]
  },
  {
   "cell_type": "code",
   "execution_count": 8,
   "id": "db81f6e4",
   "metadata": {},
   "outputs": [
    {
     "data": {
      "text/html": [
       "<div>\n",
       "<style scoped>\n",
       "    .dataframe tbody tr th:only-of-type {\n",
       "        vertical-align: middle;\n",
       "    }\n",
       "\n",
       "    .dataframe tbody tr th {\n",
       "        vertical-align: top;\n",
       "    }\n",
       "\n",
       "    .dataframe thead th {\n",
       "        text-align: right;\n",
       "    }\n",
       "</style>\n",
       "<table border=\"1\" class=\"dataframe\">\n",
       "  <thead>\n",
       "    <tr style=\"text-align: right;\">\n",
       "      <th></th>\n",
       "      <th>Unnamed: 0</th>\n",
       "      <th>Oxygen vacancy</th>\n",
       "      <th>Polarization</th>\n",
       "      <th>Charge</th>\n",
       "      <th>Electronegativity</th>\n",
       "      <th>Radius A-site</th>\n",
       "      <th>Radius B-site</th>\n",
       "      <th>Tolerance factor</th>\n",
       "      <th>Temperature</th>\n",
       "    </tr>\n",
       "  </thead>\n",
       "  <tbody>\n",
       "    <tr>\n",
       "      <th>count</th>\n",
       "      <td>2845.00000000000000</td>\n",
       "      <td>2845.00000000000000</td>\n",
       "      <td>2845.00000000000000</td>\n",
       "      <td>2845.00000000000000</td>\n",
       "      <td>2845.00000000000000</td>\n",
       "      <td>2845.00000000000000</td>\n",
       "      <td>2845.00000000000000</td>\n",
       "      <td>2845.00000000000000</td>\n",
       "      <td>2845.00000000000000</td>\n",
       "    </tr>\n",
       "    <tr>\n",
       "      <th>mean</th>\n",
       "      <td>1558.53286467486828</td>\n",
       "      <td>0.25107670575644</td>\n",
       "      <td>7.91773812793003</td>\n",
       "      <td>2.61972354737853</td>\n",
       "      <td>1.24527334720437</td>\n",
       "      <td>1.40831097559833</td>\n",
       "      <td>0.62072973524556</td>\n",
       "      <td>0.99121244469666</td>\n",
       "      <td>490.72056239015819</td>\n",
       "    </tr>\n",
       "    <tr>\n",
       "      <th>std</th>\n",
       "      <td>863.94343213550837</td>\n",
       "      <td>0.14808819400183</td>\n",
       "      <td>5.17229850979893</td>\n",
       "      <td>0.35675726021434</td>\n",
       "      <td>0.13239790114630</td>\n",
       "      <td>0.06862913783256</td>\n",
       "      <td>0.02398569604441</td>\n",
       "      <td>0.02487980301403</td>\n",
       "      <td>210.88627597570596</td>\n",
       "    </tr>\n",
       "    <tr>\n",
       "      <th>min</th>\n",
       "      <td>0.00000000000000</td>\n",
       "      <td>-0.00229500000000</td>\n",
       "      <td>2.72371750632620</td>\n",
       "      <td>2.00000000000000</td>\n",
       "      <td>0.96478260869565</td>\n",
       "      <td>1.24020000000000</td>\n",
       "      <td>0.59600000000000</td>\n",
       "      <td>0.92689034414490</td>\n",
       "      <td>25.00000000000000</td>\n",
       "    </tr>\n",
       "    <tr>\n",
       "      <th>25%</th>\n",
       "      <td>828.00000000000000</td>\n",
       "      <td>0.14743500000000</td>\n",
       "      <td>4.98125793094236</td>\n",
       "      <td>2.50000000000000</td>\n",
       "      <td>1.13846153846154</td>\n",
       "      <td>1.37625000000000</td>\n",
       "      <td>0.61000000000000</td>\n",
       "      <td>0.97616997689958</td>\n",
       "      <td>350.00000000000000</td>\n",
       "    </tr>\n",
       "    <tr>\n",
       "      <th>50%</th>\n",
       "      <td>1565.00000000000000</td>\n",
       "      <td>0.23688500000000</td>\n",
       "      <td>5.66484044744914</td>\n",
       "      <td>2.50000000000000</td>\n",
       "      <td>1.19200000000000</td>\n",
       "      <td>1.39750000000000</td>\n",
       "      <td>0.61000000000000</td>\n",
       "      <td>0.99158127854083</td>\n",
       "      <td>500.00000000000000</td>\n",
       "    </tr>\n",
       "    <tr>\n",
       "      <th>75%</th>\n",
       "      <td>2296.00000000000000</td>\n",
       "      <td>0.33613400000000</td>\n",
       "      <td>8.91284150232362</td>\n",
       "      <td>2.71428571428571</td>\n",
       "      <td>1.35714285714286</td>\n",
       "      <td>1.44000000000000</td>\n",
       "      <td>0.61875000000000</td>\n",
       "      <td>1.00445424814704</td>\n",
       "      <td>650.00000000000000</td>\n",
       "    </tr>\n",
       "    <tr>\n",
       "      <th>max</th>\n",
       "      <td>3054.00000000000000</td>\n",
       "      <td>0.98181800000000</td>\n",
       "      <td>32.82656162883060</td>\n",
       "      <td>4.23677581863980</td>\n",
       "      <td>1.69536585365854</td>\n",
       "      <td>1.61000000000000</td>\n",
       "      <td>0.74500000000000</td>\n",
       "      <td>1.06426785943894</td>\n",
       "      <td>800.00000000000000</td>\n",
       "    </tr>\n",
       "  </tbody>\n",
       "</table>\n",
       "</div>"
      ],
      "text/plain": [
       "                Unnamed: 0       Oxygen vacancy         Polarization  \\\n",
       "count  2845.00000000000000  2845.00000000000000  2845.00000000000000   \n",
       "mean   1558.53286467486828     0.25107670575644     7.91773812793003   \n",
       "std     863.94343213550837     0.14808819400183     5.17229850979893   \n",
       "min       0.00000000000000    -0.00229500000000     2.72371750632620   \n",
       "25%     828.00000000000000     0.14743500000000     4.98125793094236   \n",
       "50%    1565.00000000000000     0.23688500000000     5.66484044744914   \n",
       "75%    2296.00000000000000     0.33613400000000     8.91284150232362   \n",
       "max    3054.00000000000000     0.98181800000000    32.82656162883060   \n",
       "\n",
       "                    Charge    Electronegativity        Radius A-site  \\\n",
       "count  2845.00000000000000  2845.00000000000000  2845.00000000000000   \n",
       "mean      2.61972354737853     1.24527334720437     1.40831097559833   \n",
       "std       0.35675726021434     0.13239790114630     0.06862913783256   \n",
       "min       2.00000000000000     0.96478260869565     1.24020000000000   \n",
       "25%       2.50000000000000     1.13846153846154     1.37625000000000   \n",
       "50%       2.50000000000000     1.19200000000000     1.39750000000000   \n",
       "75%       2.71428571428571     1.35714285714286     1.44000000000000   \n",
       "max       4.23677581863980     1.69536585365854     1.61000000000000   \n",
       "\n",
       "             Radius B-site     Tolerance factor          Temperature  \n",
       "count  2845.00000000000000  2845.00000000000000  2845.00000000000000  \n",
       "mean      0.62072973524556     0.99121244469666   490.72056239015819  \n",
       "std       0.02398569604441     0.02487980301403   210.88627597570596  \n",
       "min       0.59600000000000     0.92689034414490    25.00000000000000  \n",
       "25%       0.61000000000000     0.97616997689958   350.00000000000000  \n",
       "50%       0.61000000000000     0.99158127854083   500.00000000000000  \n",
       "75%       0.61875000000000     1.00445424814704   650.00000000000000  \n",
       "max       0.74500000000000     1.06426785943894   800.00000000000000  "
      ]
     },
     "execution_count": 8,
     "metadata": {},
     "output_type": "execute_result"
    }
   ],
   "source": [
    "new_data.describe()"
   ]
  },
  {
   "cell_type": "code",
   "execution_count": 21,
   "id": "6e443ee1",
   "metadata": {},
   "outputs": [],
   "source": [
    "convert(\"data/raw_literature_data_revised.xlsx\", \"to predict\", 'data/to_predict.xlsx', element, Z, r, x, c)"
   ]
  },
  {
   "cell_type": "code",
   "execution_count": null,
   "id": "665ea11f",
   "metadata": {},
   "outputs": [],
   "source": []
  }
 ],
 "metadata": {
  "kernelspec": {
   "display_name": "env",
   "language": "python",
   "name": "python3"
  },
  "language_info": {
   "codemirror_mode": {
    "name": "ipython",
    "version": 3
   },
   "file_extension": ".py",
   "mimetype": "text/x-python",
   "name": "python",
   "nbconvert_exporter": "python",
   "pygments_lexer": "ipython3",
   "version": "3.8.19"
  }
 },
 "nbformat": 4,
 "nbformat_minor": 5
}
