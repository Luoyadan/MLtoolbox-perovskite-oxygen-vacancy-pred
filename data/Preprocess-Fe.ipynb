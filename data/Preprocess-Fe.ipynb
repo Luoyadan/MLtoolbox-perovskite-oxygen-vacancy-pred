{
 "cells": [
  {
   "cell_type": "code",
   "execution_count": 1,
   "id": "b1236ed0",
   "metadata": {},
   "outputs": [],
   "source": [
    "import pandas as pd\n",
    "import numpy as np\n",
    "import matplotlib.pyplot as plt\n",
    "import re"
   ]
  },
  {
   "cell_type": "code",
   "execution_count": 2,
   "id": "5799dfc4",
   "metadata": {},
   "outputs": [],
   "source": [
    "df = pd.read_excel('element.xlsx', sheet_name='Sheet1')"
   ]
  },
  {
   "cell_type": "code",
   "execution_count": 3,
   "id": "5f5c5e5d",
   "metadata": {},
   "outputs": [
    {
     "data": {
      "text/html": [
       "<div>\n",
       "<style scoped>\n",
       "    .dataframe tbody tr th:only-of-type {\n",
       "        vertical-align: middle;\n",
       "    }\n",
       "\n",
       "    .dataframe tbody tr th {\n",
       "        vertical-align: top;\n",
       "    }\n",
       "\n",
       "    .dataframe thead th {\n",
       "        text-align: right;\n",
       "    }\n",
       "</style>\n",
       "<table border=\"1\" class=\"dataframe\">\n",
       "  <thead>\n",
       "    <tr style=\"text-align: right;\">\n",
       "      <th></th>\n",
       "      <th>Pr</th>\n",
       "      <th>Ba</th>\n",
       "      <th>Sr</th>\n",
       "      <th>Co</th>\n",
       "      <th>La</th>\n",
       "      <th>Fe</th>\n",
       "      <th>V</th>\n",
       "      <th>Nb</th>\n",
       "      <th>Ta</th>\n",
       "      <th>Ag</th>\n",
       "      <th>...</th>\n",
       "      <th>Y</th>\n",
       "      <th>Eu</th>\n",
       "      <th>Ho</th>\n",
       "      <th>Cr</th>\n",
       "      <th>Mg</th>\n",
       "      <th>W</th>\n",
       "      <th>Pdd</th>\n",
       "      <th>Al</th>\n",
       "      <th>Ga</th>\n",
       "      <th>PP</th>\n",
       "    </tr>\n",
       "  </thead>\n",
       "  <tbody>\n",
       "    <tr>\n",
       "      <th>0</th>\n",
       "      <td>3.000</td>\n",
       "      <td>2.00</td>\n",
       "      <td>2.00</td>\n",
       "      <td>3.00</td>\n",
       "      <td>3.00</td>\n",
       "      <td>3.000</td>\n",
       "      <td>5.00</td>\n",
       "      <td>5.00</td>\n",
       "      <td>5.00</td>\n",
       "      <td>1.00</td>\n",
       "      <td>...</td>\n",
       "      <td>3.0000</td>\n",
       "      <td>2.00</td>\n",
       "      <td>3.00</td>\n",
       "      <td>3.000</td>\n",
       "      <td>2.00</td>\n",
       "      <td>6.00</td>\n",
       "      <td>3.00</td>\n",
       "      <td>3.00</td>\n",
       "      <td>3.00</td>\n",
       "      <td>5.00</td>\n",
       "    </tr>\n",
       "    <tr>\n",
       "      <th>1</th>\n",
       "      <td>1.179</td>\n",
       "      <td>1.61</td>\n",
       "      <td>1.44</td>\n",
       "      <td>0.61</td>\n",
       "      <td>1.36</td>\n",
       "      <td>0.645</td>\n",
       "      <td>0.54</td>\n",
       "      <td>0.64</td>\n",
       "      <td>0.64</td>\n",
       "      <td>1.28</td>\n",
       "      <td>...</td>\n",
       "      <td>1.0175</td>\n",
       "      <td>1.35</td>\n",
       "      <td>1.12</td>\n",
       "      <td>0.615</td>\n",
       "      <td>0.72</td>\n",
       "      <td>0.60</td>\n",
       "      <td>0.76</td>\n",
       "      <td>0.40</td>\n",
       "      <td>0.62</td>\n",
       "      <td>0.38</td>\n",
       "    </tr>\n",
       "    <tr>\n",
       "      <th>2</th>\n",
       "      <td>1.400</td>\n",
       "      <td>0.89</td>\n",
       "      <td>1.03</td>\n",
       "      <td>1.77</td>\n",
       "      <td>1.30</td>\n",
       "      <td>1.800</td>\n",
       "      <td>2.03</td>\n",
       "      <td>1.87</td>\n",
       "      <td>1.80</td>\n",
       "      <td>1.44</td>\n",
       "      <td>...</td>\n",
       "      <td>1.3200</td>\n",
       "      <td>1.15</td>\n",
       "      <td>1.44</td>\n",
       "      <td>1.740</td>\n",
       "      <td>1.17</td>\n",
       "      <td>2.03</td>\n",
       "      <td>1.69</td>\n",
       "      <td>1.58</td>\n",
       "      <td>1.66</td>\n",
       "      <td>2.10</td>\n",
       "    </tr>\n",
       "    <tr>\n",
       "      <th>3</th>\n",
       "      <td>8.000</td>\n",
       "      <td>8.00</td>\n",
       "      <td>8.00</td>\n",
       "      <td>6.00</td>\n",
       "      <td>8.00</td>\n",
       "      <td>6.000</td>\n",
       "      <td>6.00</td>\n",
       "      <td>6.00</td>\n",
       "      <td>6.00</td>\n",
       "      <td>8.00</td>\n",
       "      <td>...</td>\n",
       "      <td>8.0000</td>\n",
       "      <td>8.00</td>\n",
       "      <td>8.00</td>\n",
       "      <td>6.000</td>\n",
       "      <td>6.00</td>\n",
       "      <td>6.00</td>\n",
       "      <td>6.00</td>\n",
       "      <td>6.00</td>\n",
       "      <td>6.00</td>\n",
       "      <td>6.00</td>\n",
       "    </tr>\n",
       "  </tbody>\n",
       "</table>\n",
       "<p>4 rows × 42 columns</p>\n",
       "</div>"
      ],
      "text/plain": [
       "      Pr    Ba    Sr    Co    La     Fe     V    Nb    Ta    Ag  ...       Y  \\\n",
       "0  3.000  2.00  2.00  3.00  3.00  3.000  5.00  5.00  5.00  1.00  ...  3.0000   \n",
       "1  1.179  1.61  1.44  0.61  1.36  0.645  0.54  0.64  0.64  1.28  ...  1.0175   \n",
       "2  1.400  0.89  1.03  1.77  1.30  1.800  2.03  1.87  1.80  1.44  ...  1.3200   \n",
       "3  8.000  8.00  8.00  6.00  8.00  6.000  6.00  6.00  6.00  8.00  ...  8.0000   \n",
       "\n",
       "     Eu    Ho     Cr    Mg     W   Pdd    Al    Ga    PP  \n",
       "0  2.00  3.00  3.000  2.00  6.00  3.00  3.00  3.00  5.00  \n",
       "1  1.35  1.12  0.615  0.72  0.60  0.76  0.40  0.62  0.38  \n",
       "2  1.15  1.44  1.740  1.17  2.03  1.69  1.58  1.66  2.10  \n",
       "3  8.00  8.00  6.000  6.00  6.00  6.00  6.00  6.00  6.00  \n",
       "\n",
       "[4 rows x 42 columns]"
      ]
     },
     "execution_count": 3,
     "metadata": {},
     "output_type": "execute_result"
    }
   ],
   "source": [
    "df.head()"
   ]
  },
  {
   "cell_type": "code",
   "execution_count": 4,
   "id": "fbe86a8a",
   "metadata": {},
   "outputs": [],
   "source": [
    "element = df.columns.values.tolist()"
   ]
  },
  {
   "cell_type": "code",
   "execution_count": 5,
   "id": "697d113d",
   "metadata": {},
   "outputs": [],
   "source": [
    "Z = df.iloc[0,:]\n",
    "r = df.iloc[1,:]\n",
    "x = df.iloc[2,:]\n",
    "c = df.iloc[3,:]"
   ]
  },
  {
   "cell_type": "code",
   "execution_count": 6,
   "id": "06687924",
   "metadata": {},
   "outputs": [],
   "source": [
    "f = pd.read_excel('oxygen vacancy for Fe-based perovskites.xlsx', sheet_name='oxygen vacancy')"
   ]
  },
  {
   "cell_type": "code",
   "execution_count": 7,
   "id": "aa884b11",
   "metadata": {},
   "outputs": [
    {
     "data": {
      "text/html": [
       "<div>\n",
       "<style scoped>\n",
       "    .dataframe tbody tr th:only-of-type {\n",
       "        vertical-align: middle;\n",
       "    }\n",
       "\n",
       "    .dataframe tbody tr th {\n",
       "        vertical-align: top;\n",
       "    }\n",
       "\n",
       "    .dataframe thead th {\n",
       "        text-align: right;\n",
       "    }\n",
       "</style>\n",
       "<table border=\"1\" class=\"dataframe\">\n",
       "  <thead>\n",
       "    <tr style=\"text-align: right;\">\n",
       "      <th></th>\n",
       "      <th>Sample name</th>\n",
       "      <th>delta</th>\n",
       "      <th>Unnamed: 2</th>\n",
       "    </tr>\n",
       "  </thead>\n",
       "  <tbody>\n",
       "    <tr>\n",
       "      <th>0</th>\n",
       "      <td>Sr1Sc0.175Nb0.025Fe0.8</td>\n",
       "      <td>0.275</td>\n",
       "      <td>NaN</td>\n",
       "    </tr>\n",
       "    <tr>\n",
       "      <th>1</th>\n",
       "      <td>Sr1Nb0.1Ta0.1Fe0.8</td>\n",
       "      <td>0.180</td>\n",
       "      <td>NaN</td>\n",
       "    </tr>\n",
       "    <tr>\n",
       "      <th>2</th>\n",
       "      <td>Sr0.95Nb0.1Ta0.1Fe0.8</td>\n",
       "      <td>0.205</td>\n",
       "      <td>NaN</td>\n",
       "    </tr>\n",
       "    <tr>\n",
       "      <th>3</th>\n",
       "      <td>Sr0.95Li0.05Nb0.1Ta0.1Fe0.8</td>\n",
       "      <td>0.260</td>\n",
       "      <td>NaN</td>\n",
       "    </tr>\n",
       "    <tr>\n",
       "      <th>4</th>\n",
       "      <td>Sr0.95Na0.05Nb0.1Ta0.1Fe0.8</td>\n",
       "      <td>0.225</td>\n",
       "      <td>NaN</td>\n",
       "    </tr>\n",
       "  </tbody>\n",
       "</table>\n",
       "</div>"
      ],
      "text/plain": [
       "                   Sample name  delta  Unnamed: 2\n",
       "0       Sr1Sc0.175Nb0.025Fe0.8  0.275         NaN\n",
       "1           Sr1Nb0.1Ta0.1Fe0.8  0.180         NaN\n",
       "2        Sr0.95Nb0.1Ta0.1Fe0.8  0.205         NaN\n",
       "3  Sr0.95Li0.05Nb0.1Ta0.1Fe0.8  0.260         NaN\n",
       "4  Sr0.95Na0.05Nb0.1Ta0.1Fe0.8  0.225         NaN"
      ]
     },
     "execution_count": 7,
     "metadata": {},
     "output_type": "execute_result"
    }
   ],
   "source": [
    "f.head()"
   ]
  },
  {
   "cell_type": "code",
   "execution_count": 8,
   "id": "721ffbee",
   "metadata": {},
   "outputs": [],
   "source": [
    "name = f['Sample name']\n",
    "delta = f['delta']"
   ]
  },
  {
   "cell_type": "code",
   "execution_count": 9,
   "id": "07d710e1",
   "metadata": {},
   "outputs": [],
   "source": [
    "def pol(tst):\n",
    "    t = []\n",
    "    for i in element:\n",
    "        if i in tst:\n",
    "            t.append([tst.index(i[0]),i])\n",
    "    st=sorted(t, key = lambda x: x[0])\n",
    "    h = [i[-1] for i in st]\n",
    "    print(h)\n",
    "    \n",
    "    p = Z[h]**2/r[h]\n",
    "    \n",
    "    #print(radius)\n",
    "    \n",
    "    pwoFe = p.drop('Fe').tolist()\n",
    "    \n",
    "    #print(iefwoCo)\n",
    "    s = re.findall(r\"[-+]?\\d*\\.\\d+|\\d+\", tst)[:-1]\n",
    "    #print(s)\n",
    "    sf = [float(i) for i in s]\n",
    "    totalp= np.dot(pwoFe, sf)/sum(sf)\n",
    "    return totalp\n"
   ]
  },
  {
   "cell_type": "code",
   "execution_count": 10,
   "id": "60e5e02e",
   "metadata": {},
   "outputs": [
    {
     "name": "stdout",
     "output_type": "stream",
     "text": [
      "['Sr', 'Sc', 'Nb', 'Fe']\n",
      "['Sr', 'Nb', 'Ta', 'Fe']\n",
      "['Sr', 'Nb', 'Ta', 'Fe']\n",
      "['Sr', 'Li', 'Nb', 'Ta', 'Fe']\n",
      "['Sr', 'Nb', 'Na', 'Ta', 'Fe']\n",
      "['Sr', 'K', 'Nb', 'Ta', 'Fe']\n",
      "['Sr', 'Hf', 'Fe']\n",
      "['Sr', 'Nb', 'Fe']\n",
      "['Sr', 'Nb', 'Fe']\n",
      "['Sr', 'Nb', 'Fe']\n",
      "['Ba', 'Sn', 'Fe']\n",
      "['Ba', 'Fe']\n",
      "['Ba', 'Ti', 'Fe']\n",
      "['Ba', 'Zr', 'Fe']\n",
      "['Ba', 'Ce', 'Fe']\n",
      "['Ba', 'Nb', 'Fe']\n",
      "['Ba', 'Sr', 'Fe']\n",
      "['Ba', 'Sr', 'Sb', 'Fe']\n",
      "['Ba', 'Sr', 'Zn', 'Fe']\n",
      "['Ba', 'La', 'Fe']\n",
      "['Ba', 'Ca', 'In', 'Fe']\n",
      "['Bi', 'Sr', 'Fe']\n",
      "['Bi', 'Sr', 'Fe']\n",
      "['Ba', 'Zr', 'Fe']\n",
      "['Ba', 'La', 'Fe']\n",
      "['Ba', 'Ce', 'Fe']\n",
      "['Ba', 'Gd', 'Fe']\n",
      "['Ba', 'ASm', 'Fe']\n",
      "['Bi', 'Sr', 'Nb', 'Fe']\n",
      "['Bi', 'Sr', 'Nb', 'Fe']\n",
      "['Bi', 'Sr', 'Nb', 'Fe']\n",
      "['La', 'Sr', 'Cu', 'Fe']\n",
      "['Pr', 'Sr', 'Cu', 'Fe']\n",
      "['Nd', 'Sr', 'Cu', 'Fe']\n",
      "['Sr', 'Nb', 'Fe']\n",
      "['Pr', 'Ba', 'Fe']\n",
      "['Pr', 'Ba', 'Zn', 'Fe']\n",
      "['Pr', 'Ba', 'Zn', 'Fe']\n",
      "['Pr', 'Ba', 'Zn', 'Fe']\n",
      "['Pr', 'Ba', 'Zn', 'Fe']\n",
      "['La', 'Cu', 'Fe']\n",
      "['Ba', 'Cu', 'Fe']\n",
      "['La', 'Sr', 'Co', 'Fe']\n",
      "['Pr', 'Ba', 'Co', 'Fe']\n",
      "['Nd', 'Ba', 'Co', 'Fe']\n",
      "['Ba', 'Ni', 'Fe']\n",
      "['La', 'Sr', 'Mo', 'Fe']\n",
      "['Sr', 'Co', 'Ce', 'Fe']\n",
      "['Sr', 'Co', 'Ce', 'Fe']\n",
      "['Sr', 'Co', 'Ce', 'Fe']\n",
      "['Ba', 'La', 'PP', 'Fe']\n",
      "['La', 'Cu', 'Fe']\n",
      "['Ba', 'Cu', 'Fe']\n",
      "['Ba', 'Sr', 'Co', 'Fe']\n",
      "['Ba', 'Sr', 'Co', 'Fe']\n",
      "['Ba', 'Sr', 'Cu', 'Fe']\n",
      "['Ba', 'Sr', 'Cu', 'Fe']\n",
      "['La', 'Bi', 'Sr', 'Fe']\n",
      "['Sr', 'Nb', 'Ta', 'Fe']\n",
      "['Sr', 'Li', 'Nb', 'Ta', 'Fe']\n",
      "['Sr', 'Li', 'Nb', 'Ta', 'Fe']\n",
      "['Sr', 'Li', 'Nb', 'Ta', 'Fe']\n",
      "['Sr', 'Li', 'Nb', 'Ta', 'Fe']\n",
      "['Sr', 'Si', 'Fe']\n",
      "['Sr', 'Si', 'Fe']\n",
      "['Sr', 'Si', 'Fe']\n",
      "['Sr', 'Si', 'Fe']\n",
      "['Pr', 'Ba', 'Fe']\n",
      "['Pr', 'Ba', 'Fe']\n",
      "['Sr', 'Co', 'Fe']\n",
      "['Sr', 'Co', 'Nb', 'Fe']\n",
      "['Sr', 'Co', 'Nb', 'Fe']\n",
      "['Bi', 'Sr', 'Sb', 'Fe']\n",
      "['La', 'Sr', 'Co', 'Zn', 'Fe']\n",
      "['La', 'Sr', 'Co', 'Ni', 'Fe']\n",
      "['La', 'Sr', 'Co', 'Cu', 'Fe']\n",
      "['Sr', 'Fe']\n",
      "['Sr', 'Si', 'Fe']\n",
      "['Sr', 'Ca', 'Fe']\n",
      "['Sr', 'Si', 'Ca', 'Fe']\n",
      "['Sr', 'Ca', 'Fe']\n",
      "['Sr', 'Si', 'Ca', 'Fe']\n",
      "['Gd', 'Ba', 'Mn', 'Fe']\n",
      "['Gd', 'Ba', 'Mn', 'Fe']\n",
      "['Sr', 'W', 'Fe']\n",
      "['Sr', 'Nb', 'Fe']\n",
      "['Sr', 'Nb', 'W', 'Fe']\n",
      "['La', 'Sr', 'Co', 'Fe']\n",
      "['La', 'Sr', 'Co', 'Ni', 'Fe']\n",
      "['La', 'Sr', 'Co', 'Pdd', 'Fe']\n",
      "['Sr', 'Ta', 'W', 'Fe']\n",
      "['Sr', 'Ta', 'Fe']\n",
      "['Sr', 'W', 'Fe']\n"
     ]
    }
   ],
   "source": [
    "P=[]\n",
    "m = 0\n",
    "for i in name:\n",
    "    #print(i)\n",
    "    P.append([i,m,pol(i)])\n",
    "    m=m+1\n",
    "pdata = [x[-1] for x in P]"
   ]
  },
  {
   "cell_type": "code",
   "execution_count": 11,
   "id": "c6cffc32",
   "metadata": {},
   "outputs": [],
   "source": [
    "def z(tst):\n",
    "    t = []\n",
    "    for i in element:\n",
    "        if i in tst:\n",
    "            t.append([tst.index(i[0]),i])\n",
    "    st=sorted(t, key = lambda x: x[0])\n",
    "    h = [i[-1] for i in st]\n",
    "    #print(h)\n",
    "    \n",
    "    Zz = Z[h]\n",
    "    \n",
    "    #print(radius)\n",
    "    \n",
    "    zwoFe = Zz.drop('Fe').tolist()\n",
    "    \n",
    "    #print(iefwoCo)\n",
    "    s = re.findall(r\"[-+]?\\d*\\.\\d+|\\d+\", tst)[:-1]\n",
    "    #print(s)\n",
    "    sf = [float(i) for i in s]\n",
    "    totalz= np.dot(zwoFe, sf)/sum(sf)\n",
    "    return totalz"
   ]
  },
  {
   "cell_type": "code",
   "execution_count": 12,
   "id": "74fd131d",
   "metadata": {},
   "outputs": [],
   "source": [
    "ZZ=[]\n",
    "m = 0\n",
    "for i in name:\n",
    "    #print(i)\n",
    "    ZZ.append([i,m,z(i)])\n",
    "    m=m+1\n",
    "zdata = [x[-1] for x in ZZ]"
   ]
  },
  {
   "cell_type": "code",
   "execution_count": null,
   "id": "8a3edd5e",
   "metadata": {},
   "outputs": [],
   "source": []
  },
  {
   "cell_type": "code",
   "execution_count": 13,
   "id": "5eb78de4",
   "metadata": {},
   "outputs": [],
   "source": [
    "def electronegativity(tst):\n",
    "    t = []\n",
    "    for i in element:\n",
    "        if i in tst:\n",
    "            t.append([tst.index(i[0]),i])\n",
    "    st=sorted(t, key = lambda x: x[0])\n",
    "    h = [i[-1] for i in st]\n",
    "    #print(h)\n",
    "    \n",
    "    xx = x[h]\n",
    "    \n",
    "    #print(radius)\n",
    "    \n",
    "    xwoFe = xx.drop('Fe').tolist()\n",
    "    \n",
    "    #print(iefwoCo)\n",
    "    s = re.findall(r\"[-+]?\\d*\\.\\d+|\\d+\", tst)[:-1]\n",
    "    #print(s)\n",
    "    sf = [float(i) for i in s]\n",
    "    totalx= np.dot(xwoFe, sf)/sum(sf)\n",
    "    return totalx"
   ]
  },
  {
   "cell_type": "code",
   "execution_count": 14,
   "id": "36cc25da",
   "metadata": {},
   "outputs": [],
   "source": [
    "XX=[]\n",
    "m = 0\n",
    "for i in name:\n",
    "    #print(i)\n",
    "    XX.append([i,m,electronegativity(i)])\n",
    "    m=m+1\n",
    "xxdata = [x[-1] for x in XX]"
   ]
  },
  {
   "cell_type": "code",
   "execution_count": 15,
   "id": "6aa01646",
   "metadata": {},
   "outputs": [],
   "source": [
    "def conditiona(x): return c[x] ==8.0\n",
    "def conditionb(x): return c[x] == 6.0\n",
    "def condition(x): return x==1.0\n"
   ]
  },
  {
   "cell_type": "code",
   "execution_count": null,
   "id": "98a9dd63",
   "metadata": {},
   "outputs": [],
   "source": []
  },
  {
   "cell_type": "code",
   "execution_count": 16,
   "id": "ddd6e946",
   "metadata": {},
   "outputs": [
    {
     "ename": "NameError",
     "evalue": "name 'u' is not defined",
     "output_type": "error",
     "traceback": [
      "\u001b[1;31m---------------------------------------------------------------------------\u001b[0m",
      "\u001b[1;31mNameError\u001b[0m                                 Traceback (most recent call last)",
      "\u001b[1;32m<ipython-input-16-188cb23f52a4>\u001b[0m in \u001b[0;36m<module>\u001b[1;34m\u001b[0m\n\u001b[1;32m----> 1\u001b[1;33m \u001b[1;33m[\u001b[0m\u001b[0midx\u001b[0m \u001b[1;32mfor\u001b[0m \u001b[0midx\u001b[0m\u001b[1;33m,\u001b[0m \u001b[0melement\u001b[0m \u001b[1;32min\u001b[0m \u001b[0menumerate\u001b[0m\u001b[1;33m(\u001b[0m\u001b[0mu\u001b[0m\u001b[1;33m)\u001b[0m \u001b[1;32mif\u001b[0m \u001b[0mcondition\u001b[0m\u001b[1;33m(\u001b[0m\u001b[0melement\u001b[0m\u001b[1;33m)\u001b[0m\u001b[1;33m]\u001b[0m\u001b[1;33m\u001b[0m\u001b[1;33m\u001b[0m\u001b[0m\n\u001b[0m",
      "\u001b[1;31mNameError\u001b[0m: name 'u' is not defined"
     ]
    }
   ],
   "source": [
    "[idx for idx, element in enumerate(u) if condition(element)]"
   ]
  },
  {
   "cell_type": "code",
   "execution_count": 17,
   "id": "99fa0ead",
   "metadata": {},
   "outputs": [
    {
     "ename": "NameError",
     "evalue": "name 'u' is not defined",
     "output_type": "error",
     "traceback": [
      "\u001b[1;31m---------------------------------------------------------------------------\u001b[0m",
      "\u001b[1;31mNameError\u001b[0m                                 Traceback (most recent call last)",
      "\u001b[1;32m<ipython-input-17-6afa51e374ae>\u001b[0m in \u001b[0;36m<module>\u001b[1;34m\u001b[0m\n\u001b[1;32m----> 1\u001b[1;33m \u001b[1;33m[\u001b[0m\u001b[0melement\u001b[0m \u001b[1;32mfor\u001b[0m \u001b[0midx\u001b[0m\u001b[1;33m,\u001b[0m\u001b[0melement\u001b[0m \u001b[1;32min\u001b[0m \u001b[0menumerate\u001b[0m\u001b[1;33m(\u001b[0m\u001b[0mu\u001b[0m\u001b[1;33m)\u001b[0m \u001b[1;32mif\u001b[0m \u001b[0mcondition\u001b[0m\u001b[1;33m(\u001b[0m\u001b[0melement\u001b[0m\u001b[1;33m)\u001b[0m\u001b[1;33m]\u001b[0m\u001b[1;33m\u001b[0m\u001b[1;33m\u001b[0m\u001b[0m\n\u001b[0m",
      "\u001b[1;31mNameError\u001b[0m: name 'u' is not defined"
     ]
    }
   ],
   "source": [
    "[element for idx,element in enumerate(u) if condition(element)]"
   ]
  },
  {
   "cell_type": "code",
   "execution_count": null,
   "id": "2a9f6485",
   "metadata": {},
   "outputs": [],
   "source": []
  },
  {
   "cell_type": "code",
   "execution_count": 18,
   "id": "035e585d",
   "metadata": {},
   "outputs": [],
   "source": [
    "def ra(tst):\n",
    "    t = []\n",
    "    for i in element:\n",
    "        if i in tst:\n",
    "            t.append([tst.index(i[0]),i])\n",
    "    st=sorted(t, key = lambda x: x[0])\n",
    "    h = [i[-1] for i in st]\n",
    "    #print(h)\n",
    "    ha = [element for idx, element in enumerate(h) if conditiona(element)]\n",
    "    \n",
    "    rr = r[ha]\n",
    "    \n",
    "    #print(radius)\n",
    "    \n",
    "    #rawoCo = rr.drop('Co').tolist()\n",
    "    \n",
    "    #print(iefwoCo)\n",
    "    s = re.findall(r\"[-+]?\\d*\\.\\d+|\\d+\", tst)[0:len(ha)]\n",
    "    #print(s)\n",
    "    #print(s)\n",
    "    sf = [float(i) for i in s]\n",
    "\n",
    "    totalra= np.dot(rr, sf)/sum(sf)\n",
    "    return totalra"
   ]
  },
  {
   "cell_type": "code",
   "execution_count": 19,
   "id": "d1dbd5b8",
   "metadata": {},
   "outputs": [],
   "source": [
    "RA=[]\n",
    "m = 0\n",
    "for i in name:\n",
    "    #print(i)\n",
    "    RA.append([i,m,ra(i)])\n",
    "    m=m+1\n",
    "radata = [x[-1] for x in RA]"
   ]
  },
  {
   "cell_type": "code",
   "execution_count": null,
   "id": "080e7108",
   "metadata": {},
   "outputs": [],
   "source": []
  },
  {
   "cell_type": "code",
   "execution_count": 20,
   "id": "5f5b6b55",
   "metadata": {},
   "outputs": [],
   "source": [
    "def rb(tst):\n",
    "    t = []\n",
    "    for i in element:\n",
    "        if i in tst:\n",
    "            t.append([tst.index(i[0]),i])\n",
    "    st=sorted(t, key = lambda x: x[0])\n",
    "    h = [i[-1] for i in st]\n",
    "    #print(h)\n",
    "    hb = [element for idx, element in enumerate(h) if conditionb(element)]\n",
    "    ha = [element for idx, element in enumerate(h) if conditiona(element)]\n",
    "    rr = r[hb]\n",
    "    \n",
    "    #print(radius)\n",
    "    \n",
    "    #rawoCo = rr.drop('Co').tolist()\n",
    "    \n",
    "    #print(iefwoCo)\n",
    "    s = re.findall(r\"[-+]?\\d*\\.\\d+|\\d+\", tst)[len(ha):len(hb)+len(ha)]\n",
    "    #print(s)\n",
    "    #print(s)\n",
    "    sf = [float(i) for i in s]\n",
    "\n",
    "    totalrb= np.dot(rr, sf)/sum(sf)\n",
    "    return totalrb"
   ]
  },
  {
   "cell_type": "code",
   "execution_count": 21,
   "id": "09a6dd9a",
   "metadata": {},
   "outputs": [],
   "source": [
    "RB=[]\n",
    "m = 0\n",
    "for i in name:\n",
    "    #print(i)\n",
    "    RB.append([i,m,rb(i)])\n",
    "    m=m+1\n",
    "rbdata = [x[-1] for x in RB]"
   ]
  },
  {
   "cell_type": "code",
   "execution_count": null,
   "id": "5986e70d",
   "metadata": {},
   "outputs": [],
   "source": []
  },
  {
   "cell_type": "code",
   "execution_count": 159,
   "id": "7653c2fd",
   "metadata": {},
   "outputs": [],
   "source": [
    "train= pd.DataFrame({'Samples': name[0:150],'Oxygen vacancy': delta[0:150], \n",
    "                     'Polarization': pdata[0:150],'Charge': zdata[0:150], 'Electronegativity': xxdata[0:150],\n",
    "                     'Radius A-site':radata[0:150], 'Radius B-site':rbdata[0:150]})\n"
   ]
  },
  {
   "cell_type": "code",
   "execution_count": 160,
   "id": "acc3016c",
   "metadata": {},
   "outputs": [],
   "source": [
    "train.to_excel('train.xlsx')"
   ]
  },
  {
   "cell_type": "code",
   "execution_count": 161,
   "id": "b9fa473b",
   "metadata": {},
   "outputs": [],
   "source": [
    "test= pd.DataFrame({'Samples': name[150:-1],'Oxygen vacancy': delta[150:-1], \n",
    "                     'Polarization': pdata[150:-1],'Charge': zdata[150:-1], 'Electronegativity': xxdata[150:-1],\n",
    "                     'Radius A-site':radata[150:-1], 'Radius B-site':rbdata[150:-1]})"
   ]
  },
  {
   "cell_type": "code",
   "execution_count": 162,
   "id": "7eca09b9",
   "metadata": {},
   "outputs": [],
   "source": [
    "test.to_excel('test.xlsx')"
   ]
  },
  {
   "cell_type": "code",
   "execution_count": null,
   "id": "bce39ee8",
   "metadata": {},
   "outputs": [],
   "source": []
  },
  {
   "cell_type": "code",
   "execution_count": 22,
   "id": "c53e81d9",
   "metadata": {},
   "outputs": [],
   "source": [
    "data= pd.DataFrame({'Samples': name,'Oxygen vacancy': delta, \n",
    "                     'Polarization': pdata,'Charge': zdata, 'Electronegativity': xxdata,\n",
    "                     'Radius A-site':radata, 'Radius B-site':rbdata})"
   ]
  },
  {
   "cell_type": "code",
   "execution_count": 24,
   "id": "aa8637ad",
   "metadata": {},
   "outputs": [],
   "source": [
    "data.to_excel('data.xlsx')"
   ]
  },
  {
   "cell_type": "code",
   "execution_count": null,
   "id": "267dfa7b",
   "metadata": {},
   "outputs": [],
   "source": []
  },
  {
   "cell_type": "code",
   "execution_count": null,
   "id": "69eca6d6",
   "metadata": {},
   "outputs": [],
   "source": []
  },
  {
   "cell_type": "code",
   "execution_count": null,
   "id": "9efe430b",
   "metadata": {},
   "outputs": [],
   "source": []
  },
  {
   "cell_type": "code",
   "execution_count": null,
   "id": "b5ba5390",
   "metadata": {},
   "outputs": [],
   "source": []
  }
 ],
 "metadata": {
  "kernelspec": {
   "display_name": "Python 3",
   "language": "python",
   "name": "python3"
  },
  "language_info": {
   "codemirror_mode": {
    "name": "ipython",
    "version": 3
   },
   "file_extension": ".py",
   "mimetype": "text/x-python",
   "name": "python",
   "nbconvert_exporter": "python",
   "pygments_lexer": "ipython3",
   "version": "3.8.8"
  }
 },
 "nbformat": 4,
 "nbformat_minor": 5
}
