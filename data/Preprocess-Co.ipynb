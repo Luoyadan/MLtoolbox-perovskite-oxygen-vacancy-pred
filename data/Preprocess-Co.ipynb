{
 "cells": [
  {
   "cell_type": "code",
   "execution_count": 1,
   "id": "b1236ed0",
   "metadata": {},
   "outputs": [],
   "source": [
    "import pandas as pd\n",
    "import numpy as np\n",
    "import matplotlib.pyplot as plt\n",
    "import re"
   ]
  },
  {
   "cell_type": "code",
   "execution_count": 2,
   "id": "5799dfc4",
   "metadata": {},
   "outputs": [],
   "source": [
    "df = pd.read_excel('element.xlsx', sheet_name='Sheet1')"
   ]
  },
  {
   "cell_type": "code",
   "execution_count": 3,
   "id": "5f5c5e5d",
   "metadata": {},
   "outputs": [
    {
     "data": {
      "text/html": [
       "<div>\n",
       "<style scoped>\n",
       "    .dataframe tbody tr th:only-of-type {\n",
       "        vertical-align: middle;\n",
       "    }\n",
       "\n",
       "    .dataframe tbody tr th {\n",
       "        vertical-align: top;\n",
       "    }\n",
       "\n",
       "    .dataframe thead th {\n",
       "        text-align: right;\n",
       "    }\n",
       "</style>\n",
       "<table border=\"1\" class=\"dataframe\">\n",
       "  <thead>\n",
       "    <tr style=\"text-align: right;\">\n",
       "      <th></th>\n",
       "      <th>Pr</th>\n",
       "      <th>Ba</th>\n",
       "      <th>Sr</th>\n",
       "      <th>Co</th>\n",
       "      <th>La</th>\n",
       "      <th>Fe</th>\n",
       "      <th>V</th>\n",
       "      <th>Nb</th>\n",
       "      <th>Ta</th>\n",
       "      <th>Ag</th>\n",
       "      <th>...</th>\n",
       "      <th>Y</th>\n",
       "      <th>Eu</th>\n",
       "      <th>Ho</th>\n",
       "      <th>Cr</th>\n",
       "      <th>Mg</th>\n",
       "      <th>W</th>\n",
       "      <th>Pdd</th>\n",
       "      <th>Al</th>\n",
       "      <th>Ga</th>\n",
       "      <th>PP</th>\n",
       "    </tr>\n",
       "  </thead>\n",
       "  <tbody>\n",
       "    <tr>\n",
       "      <th>0</th>\n",
       "      <td>3.000</td>\n",
       "      <td>2.00</td>\n",
       "      <td>2.00</td>\n",
       "      <td>3.00</td>\n",
       "      <td>3.00</td>\n",
       "      <td>3.000</td>\n",
       "      <td>5.00</td>\n",
       "      <td>5.00</td>\n",
       "      <td>5.00</td>\n",
       "      <td>1.00</td>\n",
       "      <td>...</td>\n",
       "      <td>3.0000</td>\n",
       "      <td>2.00</td>\n",
       "      <td>3.00</td>\n",
       "      <td>3.000</td>\n",
       "      <td>2.00</td>\n",
       "      <td>6.00</td>\n",
       "      <td>3.00</td>\n",
       "      <td>3.00</td>\n",
       "      <td>3.00</td>\n",
       "      <td>5.00</td>\n",
       "    </tr>\n",
       "    <tr>\n",
       "      <th>1</th>\n",
       "      <td>1.179</td>\n",
       "      <td>1.61</td>\n",
       "      <td>1.44</td>\n",
       "      <td>0.61</td>\n",
       "      <td>1.36</td>\n",
       "      <td>0.645</td>\n",
       "      <td>0.54</td>\n",
       "      <td>0.64</td>\n",
       "      <td>0.64</td>\n",
       "      <td>1.28</td>\n",
       "      <td>...</td>\n",
       "      <td>1.0175</td>\n",
       "      <td>1.35</td>\n",
       "      <td>1.12</td>\n",
       "      <td>0.615</td>\n",
       "      <td>0.72</td>\n",
       "      <td>0.60</td>\n",
       "      <td>0.76</td>\n",
       "      <td>0.40</td>\n",
       "      <td>0.62</td>\n",
       "      <td>0.38</td>\n",
       "    </tr>\n",
       "    <tr>\n",
       "      <th>2</th>\n",
       "      <td>1.400</td>\n",
       "      <td>0.89</td>\n",
       "      <td>1.03</td>\n",
       "      <td>1.77</td>\n",
       "      <td>1.30</td>\n",
       "      <td>1.800</td>\n",
       "      <td>2.03</td>\n",
       "      <td>1.87</td>\n",
       "      <td>1.80</td>\n",
       "      <td>1.44</td>\n",
       "      <td>...</td>\n",
       "      <td>1.3200</td>\n",
       "      <td>1.15</td>\n",
       "      <td>1.44</td>\n",
       "      <td>1.740</td>\n",
       "      <td>1.17</td>\n",
       "      <td>2.03</td>\n",
       "      <td>1.69</td>\n",
       "      <td>1.58</td>\n",
       "      <td>1.66</td>\n",
       "      <td>2.10</td>\n",
       "    </tr>\n",
       "    <tr>\n",
       "      <th>3</th>\n",
       "      <td>8.000</td>\n",
       "      <td>8.00</td>\n",
       "      <td>8.00</td>\n",
       "      <td>6.00</td>\n",
       "      <td>8.00</td>\n",
       "      <td>6.000</td>\n",
       "      <td>6.00</td>\n",
       "      <td>6.00</td>\n",
       "      <td>6.00</td>\n",
       "      <td>8.00</td>\n",
       "      <td>...</td>\n",
       "      <td>8.0000</td>\n",
       "      <td>8.00</td>\n",
       "      <td>8.00</td>\n",
       "      <td>6.000</td>\n",
       "      <td>6.00</td>\n",
       "      <td>6.00</td>\n",
       "      <td>6.00</td>\n",
       "      <td>6.00</td>\n",
       "      <td>6.00</td>\n",
       "      <td>6.00</td>\n",
       "    </tr>\n",
       "  </tbody>\n",
       "</table>\n",
       "<p>4 rows × 42 columns</p>\n",
       "</div>"
      ],
      "text/plain": [
       "      Pr    Ba    Sr    Co    La     Fe     V    Nb    Ta    Ag  ...       Y  \\\n",
       "0  3.000  2.00  2.00  3.00  3.00  3.000  5.00  5.00  5.00  1.00  ...  3.0000   \n",
       "1  1.179  1.61  1.44  0.61  1.36  0.645  0.54  0.64  0.64  1.28  ...  1.0175   \n",
       "2  1.400  0.89  1.03  1.77  1.30  1.800  2.03  1.87  1.80  1.44  ...  1.3200   \n",
       "3  8.000  8.00  8.00  6.00  8.00  6.000  6.00  6.00  6.00  8.00  ...  8.0000   \n",
       "\n",
       "     Eu    Ho     Cr    Mg     W   Pdd    Al    Ga    PP  \n",
       "0  2.00  3.00  3.000  2.00  6.00  3.00  3.00  3.00  5.00  \n",
       "1  1.35  1.12  0.615  0.72  0.60  0.76  0.40  0.62  0.38  \n",
       "2  1.15  1.44  1.740  1.17  2.03  1.69  1.58  1.66  2.10  \n",
       "3  8.00  8.00  6.000  6.00  6.00  6.00  6.00  6.00  6.00  \n",
       "\n",
       "[4 rows x 42 columns]"
      ]
     },
     "execution_count": 3,
     "metadata": {},
     "output_type": "execute_result"
    }
   ],
   "source": [
    "df.head()"
   ]
  },
  {
   "cell_type": "code",
   "execution_count": 4,
   "id": "fbe86a8a",
   "metadata": {},
   "outputs": [],
   "source": [
    "element = df.columns.values.tolist()"
   ]
  },
  {
   "cell_type": "code",
   "execution_count": 5,
   "id": "697d113d",
   "metadata": {},
   "outputs": [],
   "source": [
    "Z = df.iloc[0,:]\n",
    "r = df.iloc[1,:]\n",
    "x = df.iloc[2,:]\n",
    "c = df.iloc[3,:]"
   ]
  },
  {
   "cell_type": "code",
   "execution_count": 6,
   "id": "4499473f",
   "metadata": {},
   "outputs": [],
   "source": [
    "f = pd.read_excel('dataset for machine learning.xlsx',sheet_name='oxygen vacancy')\n",
    "f.head()\n",
    "name = f['Sample name']\n",
    "oxygenvacancy = f['delta']"
   ]
  },
  {
   "cell_type": "code",
   "execution_count": 9,
   "id": "c6ac240a",
   "metadata": {},
   "outputs": [],
   "source": [
    "def pol(tst):\n",
    "    t = []\n",
    "    for i in element:\n",
    "        if i in tst:\n",
    "            t.append([tst.index(i[0]),i])\n",
    "    st=sorted(t, key = lambda x: x[0])\n",
    "    h = [i[-1] for i in st]\n",
    "    #print(h)\n",
    "    \n",
    "    p = Z[h]**2/r[h]\n",
    "    \n",
    "    #print(radius)\n",
    "    \n",
    "    pwoCo = p.drop('Co').tolist()\n",
    "    \n",
    "    #print(iefwoCo)\n",
    "    s = re.findall(r\"[-+]?\\d*\\.\\d+|\\d+\", tst)[:-2]\n",
    "    #print(s)\n",
    "    sf = [float(i) for i in s]\n",
    "    totalp= np.dot(pwoCo, sf)/sum(sf)\n",
    "    return totalp\n"
   ]
  },
  {
   "cell_type": "code",
   "execution_count": 10,
   "id": "f346cf8c",
   "metadata": {},
   "outputs": [],
   "source": [
    "name = ['Sr1Ta0.16W0.04Co0.8O3']"
   ]
  },
  {
   "cell_type": "code",
   "execution_count": 11,
   "id": "4e7fe690",
   "metadata": {},
   "outputs": [],
   "source": [
    "P=[]\n",
    "m = 0\n",
    "for i in name:\n",
    "    #print(i)\n",
    "    P.append([i,m,pol(i)])\n",
    "    m=m+1\n",
    "pdata = [x[-1] for x in P]"
   ]
  },
  {
   "cell_type": "code",
   "execution_count": 12,
   "id": "8c31f436",
   "metadata": {},
   "outputs": [],
   "source": [
    "def z(tst):\n",
    "    t = []\n",
    "    for i in element:\n",
    "        if i in tst:\n",
    "            t.append([tst.index(i[0]),i])\n",
    "    st=sorted(t, key = lambda x: x[0])\n",
    "    h = [i[-1] for i in st]\n",
    "    #print(h)\n",
    "    \n",
    "    Zz = Z[h]\n",
    "    \n",
    "    #print(radius)\n",
    "    \n",
    "    zwoCo = Zz.drop('Co').tolist()\n",
    "    \n",
    "    #print(iefwoCo)\n",
    "    s = re.findall(r\"[-+]?\\d*\\.\\d+|\\d+\", tst)[:-2]\n",
    "    #print(s)\n",
    "    sf = [float(i) for i in s]\n",
    "    totalz= np.dot(zwoCo, sf)/sum(sf)\n",
    "    return totalz"
   ]
  },
  {
   "cell_type": "code",
   "execution_count": 13,
   "id": "bd09bebf",
   "metadata": {},
   "outputs": [],
   "source": [
    "ZZ=[]\n",
    "m = 0\n",
    "for i in name:\n",
    "    #print(i)\n",
    "    ZZ.append([i,m,z(i)])\n",
    "    m=m+1\n",
    "zdata = [x[-1] for x in ZZ]"
   ]
  },
  {
   "cell_type": "code",
   "execution_count": 14,
   "id": "d3f3da19",
   "metadata": {},
   "outputs": [],
   "source": [
    "def electronegativity(tst):\n",
    "    t = []\n",
    "    for i in element:\n",
    "        if i in tst:\n",
    "            t.append([tst.index(i[0]),i])\n",
    "    st=sorted(t, key = lambda x: x[0])\n",
    "    h = [i[-1] for i in st]\n",
    "    #print(h)\n",
    "    \n",
    "    xx = x[h]\n",
    "    \n",
    "    #print(radius)\n",
    "    \n",
    "    xwoCo = xx.drop('Co').tolist()\n",
    "    \n",
    "    #print(iefwoCo)\n",
    "    s = re.findall(r\"[-+]?\\d*\\.\\d+|\\d+\", tst)[:-2]\n",
    "    #print(s)\n",
    "    sf = [float(i) for i in s]\n",
    "    totalx= np.dot(xwoCo, sf)/sum(sf)\n",
    "    return totalx"
   ]
  },
  {
   "cell_type": "code",
   "execution_count": 15,
   "id": "6366ac3f",
   "metadata": {},
   "outputs": [],
   "source": [
    "XX=[]\n",
    "m = 0\n",
    "for i in name:\n",
    "    #print(i)\n",
    "    XX.append([i,m,electronegativity(i)])\n",
    "    m=m+1\n",
    "xxdata = [x[-1] for x in XX]"
   ]
  },
  {
   "cell_type": "code",
   "execution_count": 16,
   "id": "2cde633c",
   "metadata": {},
   "outputs": [],
   "source": [
    "def conditiona(x): return c[x] ==8\n",
    "def conditionb(x): return c[x] == 6\n",
    "def condition(x): return x==1"
   ]
  },
  {
   "cell_type": "code",
   "execution_count": 17,
   "id": "d7f5f798",
   "metadata": {},
   "outputs": [],
   "source": [
    "def ra(tst):\n",
    "    t = []\n",
    "    for i in element:\n",
    "        if i in tst:\n",
    "            t.append([tst.index(i[0]),i])\n",
    "    st=sorted(t, key = lambda x: x[0])\n",
    "    h = [i[-1] for i in st]\n",
    "    #print(h)\n",
    "    ha = [element for idx, element in enumerate(h) if conditiona(element)]\n",
    "    \n",
    "    rr = r[ha]\n",
    "    \n",
    "    #print(radius)\n",
    "    \n",
    "    #rawoCo = rr.drop('Co').tolist()\n",
    "    \n",
    "    #print(iefwoCo)\n",
    "    s = re.findall(r\"[-+]?\\d*\\.\\d+|\\d+\", tst)[0:len(ha)]\n",
    "    #print(s)\n",
    "    #print(s)\n",
    "    sf = [float(i) for i in s]\n",
    "\n",
    "    totalra= np.dot(rr, sf)/sum(sf)\n",
    "    return totalra"
   ]
  },
  {
   "cell_type": "code",
   "execution_count": 18,
   "id": "f329a772",
   "metadata": {},
   "outputs": [],
   "source": [
    "RA=[]\n",
    "m = 0\n",
    "for i in name:\n",
    "    #print(i)\n",
    "    RA.append([i,m,ra(i)])\n",
    "    m=m+1\n",
    "radata = [x[-1] for x in RA]"
   ]
  },
  {
   "cell_type": "code",
   "execution_count": 19,
   "id": "4e40a5e9",
   "metadata": {},
   "outputs": [],
   "source": [
    "def rb(tst):\n",
    "    t = []\n",
    "    for i in element:\n",
    "        if i in tst:\n",
    "            t.append([tst.index(i[0]),i])\n",
    "    st=sorted(t, key = lambda x: x[0])\n",
    "    h = [i[-1] for i in st]\n",
    "    #print(h)\n",
    "    hb = [element for idx, element in enumerate(h) if conditionb(element)]\n",
    "    ha = [element for idx, element in enumerate(h) if conditiona(element)]\n",
    "    rr = r[hb]\n",
    "    \n",
    "    #print(radius)\n",
    "    \n",
    "    #rawoCo = rr.drop('Co').tolist()\n",
    "    \n",
    "    #print(iefwoCo)\n",
    "    s = re.findall(r\"[-+]?\\d*\\.\\d+|\\d+\", tst)[len(ha):len(hb)+len(ha)]\n",
    "    #print(s)\n",
    "    #print(s)\n",
    "    sf = [float(i) for i in s]\n",
    "\n",
    "    totalrb= np.dot(rr, sf)/sum(sf)\n",
    "    return totalrb"
   ]
  },
  {
   "cell_type": "code",
   "execution_count": 20,
   "id": "d767ca2a",
   "metadata": {},
   "outputs": [],
   "source": [
    "RB=[]\n",
    "m = 0\n",
    "for i in name:\n",
    "    #print(i)\n",
    "    RB.append([i,m,rb(i)])\n",
    "    m=m+1\n",
    "rbdata = [x[-1] for x in RB]"
   ]
  },
  {
   "cell_type": "code",
   "execution_count": 21,
   "id": "f5b9db96",
   "metadata": {},
   "outputs": [],
   "source": [
    "tolerancefactordata = [(a + 1.34)/(b+1.34)/2**0.5 for (a, b) in zip(radata,rbdata)]"
   ]
  },
  {
   "cell_type": "code",
   "execution_count": 22,
   "id": "fdf73c85",
   "metadata": {},
   "outputs": [
    {
     "ename": "ValueError",
     "evalue": "array length 1 does not match index length 221",
     "output_type": "error",
     "traceback": [
      "\u001b[0;31m---------------------------------------------------------------------------\u001b[0m",
      "\u001b[0;31mValueError\u001b[0m                                Traceback (most recent call last)",
      "\u001b[0;32m/var/folders/c6/8vm3n_sj1k1cnflzwzcmx78c0000gn/T/ipykernel_12505/3804729207.py\u001b[0m in \u001b[0;36m<module>\u001b[0;34m\u001b[0m\n\u001b[0;32m----> 1\u001b[0;31m exportdata= pd.DataFrame({'Samples': name, 'Oxygen vacancy':oxygenvacancy,\n\u001b[0m\u001b[1;32m      2\u001b[0m                      \u001b[0;34m'Polarization'\u001b[0m\u001b[0;34m:\u001b[0m \u001b[0mpdata\u001b[0m\u001b[0;34m,\u001b[0m\u001b[0;34m'Charge'\u001b[0m\u001b[0;34m:\u001b[0m \u001b[0mzdata\u001b[0m\u001b[0;34m,\u001b[0m \u001b[0;34m'Electronegativity'\u001b[0m\u001b[0;34m:\u001b[0m \u001b[0mxxdata\u001b[0m\u001b[0;34m,\u001b[0m\u001b[0;34m\u001b[0m\u001b[0;34m\u001b[0m\u001b[0m\n\u001b[1;32m      3\u001b[0m                      'Radius A-site':radata, 'Radius B-site':rbdata, 'Tolerance factor': tolerancefactordata})\n",
      "\u001b[0;32m~/opt/anaconda3/lib/python3.9/site-packages/pandas/core/frame.py\u001b[0m in \u001b[0;36m__init__\u001b[0;34m(self, data, index, columns, dtype, copy)\u001b[0m\n\u001b[1;32m    612\u001b[0m         \u001b[0;32melif\u001b[0m \u001b[0misinstance\u001b[0m\u001b[0;34m(\u001b[0m\u001b[0mdata\u001b[0m\u001b[0;34m,\u001b[0m \u001b[0mdict\u001b[0m\u001b[0;34m)\u001b[0m\u001b[0;34m:\u001b[0m\u001b[0;34m\u001b[0m\u001b[0;34m\u001b[0m\u001b[0m\n\u001b[1;32m    613\u001b[0m             \u001b[0;31m# GH#38939 de facto copy defaults to False only in non-dict cases\u001b[0m\u001b[0;34m\u001b[0m\u001b[0;34m\u001b[0m\u001b[0m\n\u001b[0;32m--> 614\u001b[0;31m             \u001b[0mmgr\u001b[0m \u001b[0;34m=\u001b[0m \u001b[0mdict_to_mgr\u001b[0m\u001b[0;34m(\u001b[0m\u001b[0mdata\u001b[0m\u001b[0;34m,\u001b[0m \u001b[0mindex\u001b[0m\u001b[0;34m,\u001b[0m \u001b[0mcolumns\u001b[0m\u001b[0;34m,\u001b[0m \u001b[0mdtype\u001b[0m\u001b[0;34m=\u001b[0m\u001b[0mdtype\u001b[0m\u001b[0;34m,\u001b[0m \u001b[0mcopy\u001b[0m\u001b[0;34m=\u001b[0m\u001b[0mcopy\u001b[0m\u001b[0;34m,\u001b[0m \u001b[0mtyp\u001b[0m\u001b[0;34m=\u001b[0m\u001b[0mmanager\u001b[0m\u001b[0;34m)\u001b[0m\u001b[0;34m\u001b[0m\u001b[0;34m\u001b[0m\u001b[0m\n\u001b[0m\u001b[1;32m    615\u001b[0m         \u001b[0;32melif\u001b[0m \u001b[0misinstance\u001b[0m\u001b[0;34m(\u001b[0m\u001b[0mdata\u001b[0m\u001b[0;34m,\u001b[0m \u001b[0mma\u001b[0m\u001b[0;34m.\u001b[0m\u001b[0mMaskedArray\u001b[0m\u001b[0;34m)\u001b[0m\u001b[0;34m:\u001b[0m\u001b[0;34m\u001b[0m\u001b[0;34m\u001b[0m\u001b[0m\n\u001b[1;32m    616\u001b[0m             \u001b[0;32mimport\u001b[0m \u001b[0mnumpy\u001b[0m\u001b[0;34m.\u001b[0m\u001b[0mma\u001b[0m\u001b[0;34m.\u001b[0m\u001b[0mmrecords\u001b[0m \u001b[0;32mas\u001b[0m \u001b[0mmrecords\u001b[0m\u001b[0;34m\u001b[0m\u001b[0;34m\u001b[0m\u001b[0m\n",
      "\u001b[0;32m~/opt/anaconda3/lib/python3.9/site-packages/pandas/core/internals/construction.py\u001b[0m in \u001b[0;36mdict_to_mgr\u001b[0;34m(data, index, columns, dtype, typ, copy)\u001b[0m\n\u001b[1;32m    462\u001b[0m         \u001b[0;31m# TODO: can we get rid of the dt64tz special case above?\u001b[0m\u001b[0;34m\u001b[0m\u001b[0;34m\u001b[0m\u001b[0m\n\u001b[1;32m    463\u001b[0m \u001b[0;34m\u001b[0m\u001b[0m\n\u001b[0;32m--> 464\u001b[0;31m     return arrays_to_mgr(\n\u001b[0m\u001b[1;32m    465\u001b[0m         \u001b[0marrays\u001b[0m\u001b[0;34m,\u001b[0m \u001b[0mdata_names\u001b[0m\u001b[0;34m,\u001b[0m \u001b[0mindex\u001b[0m\u001b[0;34m,\u001b[0m \u001b[0mcolumns\u001b[0m\u001b[0;34m,\u001b[0m \u001b[0mdtype\u001b[0m\u001b[0;34m=\u001b[0m\u001b[0mdtype\u001b[0m\u001b[0;34m,\u001b[0m \u001b[0mtyp\u001b[0m\u001b[0;34m=\u001b[0m\u001b[0mtyp\u001b[0m\u001b[0;34m,\u001b[0m \u001b[0mconsolidate\u001b[0m\u001b[0;34m=\u001b[0m\u001b[0mcopy\u001b[0m\u001b[0;34m\u001b[0m\u001b[0;34m\u001b[0m\u001b[0m\n\u001b[1;32m    466\u001b[0m     )\n",
      "\u001b[0;32m~/opt/anaconda3/lib/python3.9/site-packages/pandas/core/internals/construction.py\u001b[0m in \u001b[0;36marrays_to_mgr\u001b[0;34m(arrays, arr_names, index, columns, dtype, verify_integrity, typ, consolidate)\u001b[0m\n\u001b[1;32m    117\u001b[0m         \u001b[0;31m# figure out the index, if necessary\u001b[0m\u001b[0;34m\u001b[0m\u001b[0;34m\u001b[0m\u001b[0m\n\u001b[1;32m    118\u001b[0m         \u001b[0;32mif\u001b[0m \u001b[0mindex\u001b[0m \u001b[0;32mis\u001b[0m \u001b[0;32mNone\u001b[0m\u001b[0;34m:\u001b[0m\u001b[0;34m\u001b[0m\u001b[0;34m\u001b[0m\u001b[0m\n\u001b[0;32m--> 119\u001b[0;31m             \u001b[0mindex\u001b[0m \u001b[0;34m=\u001b[0m \u001b[0m_extract_index\u001b[0m\u001b[0;34m(\u001b[0m\u001b[0marrays\u001b[0m\u001b[0;34m)\u001b[0m\u001b[0;34m\u001b[0m\u001b[0;34m\u001b[0m\u001b[0m\n\u001b[0m\u001b[1;32m    120\u001b[0m         \u001b[0;32melse\u001b[0m\u001b[0;34m:\u001b[0m\u001b[0;34m\u001b[0m\u001b[0;34m\u001b[0m\u001b[0m\n\u001b[1;32m    121\u001b[0m             \u001b[0mindex\u001b[0m \u001b[0;34m=\u001b[0m \u001b[0mensure_index\u001b[0m\u001b[0;34m(\u001b[0m\u001b[0mindex\u001b[0m\u001b[0;34m)\u001b[0m\u001b[0;34m\u001b[0m\u001b[0;34m\u001b[0m\u001b[0m\n",
      "\u001b[0;32m~/opt/anaconda3/lib/python3.9/site-packages/pandas/core/internals/construction.py\u001b[0m in \u001b[0;36m_extract_index\u001b[0;34m(data)\u001b[0m\n\u001b[1;32m    647\u001b[0m                         \u001b[0;34mf\"length {len(index)}\"\u001b[0m\u001b[0;34m\u001b[0m\u001b[0;34m\u001b[0m\u001b[0m\n\u001b[1;32m    648\u001b[0m                     )\n\u001b[0;32m--> 649\u001b[0;31m                     \u001b[0;32mraise\u001b[0m \u001b[0mValueError\u001b[0m\u001b[0;34m(\u001b[0m\u001b[0mmsg\u001b[0m\u001b[0;34m)\u001b[0m\u001b[0;34m\u001b[0m\u001b[0;34m\u001b[0m\u001b[0m\n\u001b[0m\u001b[1;32m    650\u001b[0m             \u001b[0;32melse\u001b[0m\u001b[0;34m:\u001b[0m\u001b[0;34m\u001b[0m\u001b[0;34m\u001b[0m\u001b[0m\n\u001b[1;32m    651\u001b[0m                 \u001b[0mindex\u001b[0m \u001b[0;34m=\u001b[0m \u001b[0mibase\u001b[0m\u001b[0;34m.\u001b[0m\u001b[0mdefault_index\u001b[0m\u001b[0;34m(\u001b[0m\u001b[0mlengths\u001b[0m\u001b[0;34m[\u001b[0m\u001b[0;36m0\u001b[0m\u001b[0;34m]\u001b[0m\u001b[0;34m)\u001b[0m\u001b[0;34m\u001b[0m\u001b[0;34m\u001b[0m\u001b[0m\n",
      "\u001b[0;31mValueError\u001b[0m: array length 1 does not match index length 221"
     ]
    }
   ],
   "source": [
    "exportdata= pd.DataFrame({'Samples': name, 'Oxygen vacancy':oxygenvacancy,\n",
    "                     'Polarization': pdata,'Charge': zdata, 'Electronegativity': xxdata,\n",
    "                     'Radius A-site':radata, 'Radius B-site':rbdata, 'Tolerance factor': tolerancefactordata})"
   ]
  },
  {
   "cell_type": "code",
   "execution_count": 49,
   "id": "dc0a89de",
   "metadata": {},
   "outputs": [],
   "source": [
    "exportdata.to_excel('data for ML with tolerance factor.xlsx')"
   ]
  },
  {
   "cell_type": "code",
   "execution_count": null,
   "id": "6d0c86a5",
   "metadata": {},
   "outputs": [],
   "source": []
  },
  {
   "cell_type": "code",
   "execution_count": null,
   "id": "38dc945d",
   "metadata": {},
   "outputs": [],
   "source": []
  },
  {
   "cell_type": "code",
   "execution_count": 50,
   "id": "06687924",
   "metadata": {},
   "outputs": [],
   "source": [
    "f = pd.read_excel('mobility and volcano.xlsx', sheet_name='volcano')"
   ]
  },
  {
   "cell_type": "code",
   "execution_count": 51,
   "id": "aa884b11",
   "metadata": {},
   "outputs": [
    {
     "data": {
      "text/html": [
       "<div>\n",
       "<style scoped>\n",
       "    .dataframe tbody tr th:only-of-type {\n",
       "        vertical-align: middle;\n",
       "    }\n",
       "\n",
       "    .dataframe tbody tr th {\n",
       "        vertical-align: top;\n",
       "    }\n",
       "\n",
       "    .dataframe thead th {\n",
       "        text-align: right;\n",
       "    }\n",
       "</style>\n",
       "<table border=\"1\" class=\"dataframe\">\n",
       "  <thead>\n",
       "    <tr style=\"text-align: right;\">\n",
       "      <th></th>\n",
       "      <th>Unnamed: 0</th>\n",
       "      <th>oxygen vacancy</th>\n",
       "      <th>ASPR</th>\n",
       "    </tr>\n",
       "  </thead>\n",
       "  <tbody>\n",
       "    <tr>\n",
       "      <th>0</th>\n",
       "      <td>Sr1V0.2Co0.8</td>\n",
       "      <td>0.27866</td>\n",
       "      <td>1.57886</td>\n",
       "    </tr>\n",
       "    <tr>\n",
       "      <th>1</th>\n",
       "      <td>Sr1Nb0.2Co0.8</td>\n",
       "      <td>0.29193</td>\n",
       "      <td>1.04434</td>\n",
       "    </tr>\n",
       "    <tr>\n",
       "      <th>2</th>\n",
       "      <td>Sr1Ta0.2Co0.8</td>\n",
       "      <td>0.29459</td>\n",
       "      <td>0.92201</td>\n",
       "    </tr>\n",
       "    <tr>\n",
       "      <th>3</th>\n",
       "      <td>Sr1Nb0.1Ta0.1Co0.8</td>\n",
       "      <td>0.39472</td>\n",
       "      <td>0.68911</td>\n",
       "    </tr>\n",
       "    <tr>\n",
       "      <th>4</th>\n",
       "      <td>Sr1Ta0.15V0.05Co0.8</td>\n",
       "      <td>0.37355</td>\n",
       "      <td>0.16529</td>\n",
       "    </tr>\n",
       "  </tbody>\n",
       "</table>\n",
       "</div>"
      ],
      "text/plain": [
       "            Unnamed: 0  oxygen vacancy     ASPR\n",
       "0         Sr1V0.2Co0.8         0.27866  1.57886\n",
       "1        Sr1Nb0.2Co0.8         0.29193  1.04434\n",
       "2        Sr1Ta0.2Co0.8         0.29459  0.92201\n",
       "3   Sr1Nb0.1Ta0.1Co0.8         0.39472  0.68911\n",
       "4  Sr1Ta0.15V0.05Co0.8         0.37355  0.16529"
      ]
     },
     "execution_count": 51,
     "metadata": {},
     "output_type": "execute_result"
    }
   ],
   "source": [
    "f.head()"
   ]
  },
  {
   "cell_type": "code",
   "execution_count": 66,
   "id": "721ffbee",
   "metadata": {},
   "outputs": [],
   "source": [
    "name = f['Unnamed: 0']\n",
    "oxygenvacancy = f['oxygen vacancy']\n",
    "#delta = f['delta']"
   ]
  },
  {
   "cell_type": "code",
   "execution_count": 53,
   "id": "07d710e1",
   "metadata": {},
   "outputs": [],
   "source": [
    "def pol(tst):\n",
    "    t = []\n",
    "    for i in element:\n",
    "        if i in tst:\n",
    "            t.append([tst.index(i[0]),i])\n",
    "    st=sorted(t, key = lambda x: x[0])\n",
    "    h = [i[-1] for i in st]\n",
    "    #print(h)\n",
    "    \n",
    "    p = Z[h]**2/r[h]\n",
    "    \n",
    "    #print(radius)\n",
    "    \n",
    "    pwoCo = p.drop('Co').tolist()\n",
    "    \n",
    "    #print(iefwoCo)\n",
    "    s = re.findall(r\"[-+]?\\d*\\.\\d+|\\d+\", tst)[:-1]\n",
    "    #print(s)\n",
    "    sf = [float(i) for i in s]\n",
    "    totalp= np.dot(pwoCo, sf)/sum(sf)\n",
    "    return totalp\n"
   ]
  },
  {
   "cell_type": "code",
   "execution_count": 54,
   "id": "60e5e02e",
   "metadata": {},
   "outputs": [],
   "source": [
    "P=[]\n",
    "m = 0\n",
    "for i in name:\n",
    "    #print(i)\n",
    "    P.append([i,m,pol(i)])\n",
    "    m=m+1\n",
    "pdata = [x[-1] for x in P]"
   ]
  },
  {
   "cell_type": "code",
   "execution_count": 55,
   "id": "c6cffc32",
   "metadata": {},
   "outputs": [],
   "source": [
    "def z(tst):\n",
    "    t = []\n",
    "    for i in element:\n",
    "        if i in tst:\n",
    "            t.append([tst.index(i[0]),i])\n",
    "    st=sorted(t, key = lambda x: x[0])\n",
    "    h = [i[-1] for i in st]\n",
    "    print(h)\n",
    "    \n",
    "    Zz = Z[h]\n",
    "    \n",
    "    #print(radius)\n",
    "    \n",
    "    zwoCo = Zz.drop('Co').tolist()\n",
    "    \n",
    "    #print(iefwoCo)\n",
    "    s = re.findall(r\"[-+]?\\d*\\.\\d+|\\d+\", tst)[:-1]\n",
    "    #print(s)\n",
    "    sf = [float(i) for i in s]\n",
    "    totalz= np.dot(zwoCo, sf)/sum(sf)\n",
    "    return totalz"
   ]
  },
  {
   "cell_type": "code",
   "execution_count": 56,
   "id": "74fd131d",
   "metadata": {},
   "outputs": [
    {
     "name": "stdout",
     "output_type": "stream",
     "text": [
      "['Sr', 'V', 'Co']\n",
      "['Sr', 'Nb', 'Co']\n",
      "['Sr', 'Ta', 'Co']\n",
      "['Sr', 'Nb', 'Ta', 'Co']\n",
      "['Sr', 'Ta', 'V', 'Co']\n",
      "['Ba', 'Sr', 'Fe', 'Co']\n",
      "['Sr', 'Sc', 'Nb', 'Co']\n",
      "['Sr', 'Ta', 'V', 'Co']\n",
      "['Sr', 'Ta', 'V', 'Co']\n",
      "['Ba', 'Bi', 'Sc', 'Co']\n",
      "['Sr', 'Sc', 'Co']\n",
      "['Sr', 'Ag', 'Nb', 'Co']\n",
      "['La', 'Sr', 'Co']\n",
      "['Pr', 'Ba', 'Sr', 'Co']\n",
      "['La', 'Sr', 'Fe', 'Co']\n",
      "['La', 'Sr', 'Ta', 'V', 'Co']\n",
      "['La', 'Sr', 'Ta', 'V', 'Co']\n",
      "['La', 'Sr', 'Ta', 'V', 'Co']\n",
      "['Sr', 'Sc', 'Ta', 'Co']\n",
      "['La', 'Sr', 'Ta', 'V', 'Co']\n"
     ]
    }
   ],
   "source": [
    "ZZ=[]\n",
    "m = 0\n",
    "for i in name:\n",
    "    #print(i)\n",
    "    ZZ.append([i,m,z(i)])\n",
    "    m=m+1\n",
    "zdata = [x[-1] for x in ZZ]"
   ]
  },
  {
   "cell_type": "code",
   "execution_count": null,
   "id": "8a3edd5e",
   "metadata": {},
   "outputs": [],
   "source": []
  },
  {
   "cell_type": "code",
   "execution_count": 57,
   "id": "5eb78de4",
   "metadata": {},
   "outputs": [],
   "source": [
    "def electronegativity(tst):\n",
    "    t = []\n",
    "    for i in element:\n",
    "        if i in tst:\n",
    "            t.append([tst.index(i[0]),i])\n",
    "    st=sorted(t, key = lambda x: x[0])\n",
    "    h = [i[-1] for i in st]\n",
    "    #print(h)\n",
    "    \n",
    "    xx = x[h]\n",
    "    \n",
    "    #print(radius)\n",
    "    \n",
    "    xwoCo = xx.drop('Co').tolist()\n",
    "    \n",
    "    #print(iefwoCo)\n",
    "    s = re.findall(r\"[-+]?\\d*\\.\\d+|\\d+\", tst)[:-1]\n",
    "    #print(s)\n",
    "    sf = [float(i) for i in s]\n",
    "    totalx= np.dot(xwoCo, sf)/sum(sf)\n",
    "    return totalx"
   ]
  },
  {
   "cell_type": "code",
   "execution_count": 58,
   "id": "36cc25da",
   "metadata": {},
   "outputs": [],
   "source": [
    "XX=[]\n",
    "m = 0\n",
    "for i in name:\n",
    "    #print(i)\n",
    "    XX.append([i,m,electronegativity(i)])\n",
    "    m=m+1\n",
    "xxdata = [x[-1] for x in XX]"
   ]
  },
  {
   "cell_type": "code",
   "execution_count": 59,
   "id": "6aa01646",
   "metadata": {},
   "outputs": [],
   "source": [
    "def conditiona(x): return c[x] ==8\n",
    "def conditionb(x): return c[x] == 6\n",
    "def condition(x): return x==1\n"
   ]
  },
  {
   "cell_type": "code",
   "execution_count": null,
   "id": "2a9f6485",
   "metadata": {},
   "outputs": [],
   "source": []
  },
  {
   "cell_type": "code",
   "execution_count": 60,
   "id": "035e585d",
   "metadata": {},
   "outputs": [],
   "source": [
    "def ra(tst):\n",
    "    t = []\n",
    "    for i in element:\n",
    "        if i in tst:\n",
    "            t.append([tst.index(i[0]),i])\n",
    "    st=sorted(t, key = lambda x: x[0])\n",
    "    h = [i[-1] for i in st]\n",
    "    #print(h)\n",
    "    ha = [element for idx, element in enumerate(h) if conditiona(element)]\n",
    "    \n",
    "    rr = r[ha]\n",
    "    \n",
    "    #print(radius)\n",
    "    \n",
    "    #rawoCo = rr.drop('Co').tolist()\n",
    "    \n",
    "    #print(iefwoCo)\n",
    "    s = re.findall(r\"[-+]?\\d*\\.\\d+|\\d+\", tst)[0:len(ha)]\n",
    "    #print(s)\n",
    "    #print(s)\n",
    "    sf = [float(i) for i in s]\n",
    "\n",
    "    totalra= np.dot(rr, sf)/sum(sf)\n",
    "    return totalra"
   ]
  },
  {
   "cell_type": "code",
   "execution_count": 61,
   "id": "d1dbd5b8",
   "metadata": {},
   "outputs": [],
   "source": [
    "RA=[]\n",
    "m = 0\n",
    "for i in name:\n",
    "    #print(i)\n",
    "    RA.append([i,m,ra(i)])\n",
    "    m=m+1\n",
    "radata = [x[-1] for x in RA]"
   ]
  },
  {
   "cell_type": "code",
   "execution_count": null,
   "id": "080e7108",
   "metadata": {},
   "outputs": [],
   "source": []
  },
  {
   "cell_type": "code",
   "execution_count": 62,
   "id": "5f5b6b55",
   "metadata": {},
   "outputs": [],
   "source": [
    "def rb(tst):\n",
    "    t = []\n",
    "    for i in element:\n",
    "        if i in tst:\n",
    "            t.append([tst.index(i[0]),i])\n",
    "    st=sorted(t, key = lambda x: x[0])\n",
    "    h = [i[-1] for i in st]\n",
    "    #print(h)\n",
    "    hb = [element for idx, element in enumerate(h) if conditionb(element)]\n",
    "    ha = [element for idx, element in enumerate(h) if conditiona(element)]\n",
    "    rr = r[hb]\n",
    "    \n",
    "    #print(radius)\n",
    "    \n",
    "    #rawoCo = rr.drop('Co').tolist()\n",
    "    \n",
    "    #print(iefwoCo)\n",
    "    s = re.findall(r\"[-+]?\\d*\\.\\d+|\\d+\", tst)[len(ha):len(hb)+len(ha)]\n",
    "    #print(s)\n",
    "    #print(s)\n",
    "    sf = [float(i) for i in s]\n",
    "\n",
    "    totalrb= np.dot(rr, sf)/sum(sf)\n",
    "    return totalrb"
   ]
  },
  {
   "cell_type": "code",
   "execution_count": 64,
   "id": "09a6dd9a",
   "metadata": {},
   "outputs": [],
   "source": [
    "RB=[]\n",
    "m = 0\n",
    "for i in name:\n",
    "    #print(i)\n",
    "    RB.append([i,m,rb(i)])\n",
    "    m=m+1\n",
    "rbdata = [x[-1] for x in RB]"
   ]
  },
  {
   "cell_type": "code",
   "execution_count": 65,
   "id": "2ad85061",
   "metadata": {},
   "outputs": [],
   "source": [
    "tolerancefactordata = [(a + 1.34)/(b+1.34)/2**0.5 for (a, b) in zip(radata,rbdata)]"
   ]
  },
  {
   "cell_type": "code",
   "execution_count": 67,
   "id": "25e77452",
   "metadata": {},
   "outputs": [],
   "source": [
    "exportdata= pd.DataFrame({'Samples': name, 'Oxygen vacancy':oxygenvacancy,\n",
    "                     'Polarization': pdata,'Charge': zdata, 'Electronegativity': xxdata,\n",
    "                     'Radius A-site':radata, 'Radius B-site':rbdata, 'Tolerance factor': tolerancefactordata})"
   ]
  },
  {
   "cell_type": "code",
   "execution_count": 68,
   "id": "91d96eda",
   "metadata": {},
   "outputs": [],
   "source": [
    "exportdata.to_excel('volcano with tolerance factor.xlsx')"
   ]
  },
  {
   "cell_type": "code",
   "execution_count": null,
   "id": "56245485",
   "metadata": {},
   "outputs": [],
   "source": []
  },
  {
   "cell_type": "code",
   "execution_count": 57,
   "id": "b8fd129f",
   "metadata": {},
   "outputs": [
    {
     "ename": "NameError",
     "evalue": "name 'delta' is not defined",
     "output_type": "error",
     "traceback": [
      "\u001b[0;31m---------------------------------------------------------------------------\u001b[0m",
      "\u001b[0;31mNameError\u001b[0m                                 Traceback (most recent call last)",
      "\u001b[0;32m/var/folders/c6/8vm3n_sj1k1cnflzwzcmx78c0000gn/T/ipykernel_51072/1727988510.py\u001b[0m in \u001b[0;36m<module>\u001b[0;34m\u001b[0m\n\u001b[0;32m----> 1\u001b[0;31m data= pd.DataFrame({'Samples': name[0:150],'Oxygen vacancy': delta[0:150], \n\u001b[0m\u001b[1;32m      2\u001b[0m                      \u001b[0;34m'Polarization'\u001b[0m\u001b[0;34m:\u001b[0m \u001b[0mpdata\u001b[0m\u001b[0;34m[\u001b[0m\u001b[0;36m0\u001b[0m\u001b[0;34m:\u001b[0m\u001b[0;36m150\u001b[0m\u001b[0;34m]\u001b[0m\u001b[0;34m,\u001b[0m\u001b[0;34m'Charge'\u001b[0m\u001b[0;34m:\u001b[0m \u001b[0mzdata\u001b[0m\u001b[0;34m[\u001b[0m\u001b[0;36m0\u001b[0m\u001b[0;34m:\u001b[0m\u001b[0;36m150\u001b[0m\u001b[0;34m]\u001b[0m\u001b[0;34m,\u001b[0m \u001b[0;34m'Electronegativity'\u001b[0m\u001b[0;34m:\u001b[0m \u001b[0mxxdata\u001b[0m\u001b[0;34m[\u001b[0m\u001b[0;36m0\u001b[0m\u001b[0;34m:\u001b[0m\u001b[0;36m150\u001b[0m\u001b[0;34m]\u001b[0m\u001b[0;34m,\u001b[0m\u001b[0;34m\u001b[0m\u001b[0;34m\u001b[0m\u001b[0m\n\u001b[1;32m      3\u001b[0m                      'Radius A-site':radata[0:150], 'Radius B-site':rbdata[0:150]})\n",
      "\u001b[0;31mNameError\u001b[0m: name 'delta' is not defined"
     ]
    }
   ],
   "source": [
    "data= pd.DataFrame({'Samples': name[0:150],'Oxygen vacancy': delta[0:150], \n",
    "                     'Polarization': pdata[0:150],'Charge': zdata[0:150], 'Electronegativity': xxdata[0:150],\n",
    "                     'Radius A-site':radata[0:150], 'Radius B-site':rbdata[0:150]})\n"
   ]
  },
  {
   "cell_type": "code",
   "execution_count": 25,
   "id": "5986e70d",
   "metadata": {},
   "outputs": [],
   "source": [
    "SCTW = pd.DataFrame({'Samples': name[0:150],'Oxygen vacancy': 'test', \n",
    "                     'Polarization': pdata[0:150],'Charge': zdata[0:150], 'Electronegativity': xxdata[0:150],\n",
    "                     'Radius A-site':radata[0:150], 'Radius B-site':rbdata[0:150]})\n"
   ]
  },
  {
   "cell_type": "code",
   "execution_count": 22,
   "id": "7653c2fd",
   "metadata": {},
   "outputs": [],
   "source": [
    "train= pd.DataFrame({'Samples': name[0:150],'Oxygen vacancy': delta[0:150], \n",
    "                     'Polarization': pdata[0:150],'Charge': zdata[0:150], 'Electronegativity': xxdata[0:150],\n",
    "                     'Radius A-site':radata[0:150], 'Radius B-site':rbdata[0:150]})\n"
   ]
  },
  {
   "cell_type": "code",
   "execution_count": 26,
   "id": "8eb48613",
   "metadata": {},
   "outputs": [
    {
     "data": {
      "text/plain": [
       "Samples              Sr1Ta0.16W0.04Co0.8O3-δ \n",
       "Oxygen vacancy                            NaN\n",
       "Polarization                         9.523148\n",
       "Charge                               2.533333\n",
       "Electronegativity                       1.166\n",
       "Radius A-site                            1.44\n",
       "Radius B-site                          0.6144\n",
       "Name: 0, dtype: object"
      ]
     },
     "execution_count": 26,
     "metadata": {},
     "output_type": "execute_result"
    }
   ],
   "source": [
    "train.loc[0]"
   ]
  },
  {
   "cell_type": "code",
   "execution_count": 160,
   "id": "acc3016c",
   "metadata": {},
   "outputs": [],
   "source": [
    "train.to_excel('train.xlsx')"
   ]
  },
  {
   "cell_type": "code",
   "execution_count": 58,
   "id": "b9fa473b",
   "metadata": {},
   "outputs": [],
   "source": [
    "exportdata= pd.DataFrame({'Samples': name,\n",
    "                     'Polarization': pdata,'Charge': zdata, 'Electronegativity': xxdata,\n",
    "                     'Radius A-site':radata, 'Radius B-site':rbdata})"
   ]
  },
  {
   "cell_type": "code",
   "execution_count": 59,
   "id": "7eca09b9",
   "metadata": {},
   "outputs": [],
   "source": [
    "exportdata.to_excel('volcano.xlsx')"
   ]
  },
  {
   "cell_type": "code",
   "execution_count": 26,
   "id": "bce39ee8",
   "metadata": {},
   "outputs": [],
   "source": [
    "SCTW.to_excel('SCTW.xlsx')"
   ]
  },
  {
   "cell_type": "code",
   "execution_count": null,
   "id": "c53e81d9",
   "metadata": {},
   "outputs": [],
   "source": []
  },
  {
   "cell_type": "code",
   "execution_count": null,
   "id": "aa8637ad",
   "metadata": {},
   "outputs": [],
   "source": []
  },
  {
   "cell_type": "code",
   "execution_count": null,
   "id": "267dfa7b",
   "metadata": {},
   "outputs": [],
   "source": []
  },
  {
   "cell_type": "code",
   "execution_count": null,
   "id": "69eca6d6",
   "metadata": {},
   "outputs": [],
   "source": []
  },
  {
   "cell_type": "code",
   "execution_count": null,
   "id": "9efe430b",
   "metadata": {},
   "outputs": [],
   "source": []
  },
  {
   "cell_type": "code",
   "execution_count": null,
   "id": "b5ba5390",
   "metadata": {},
   "outputs": [],
   "source": []
  }
 ],
 "metadata": {
  "kernelspec": {
   "display_name": "Python 3 (ipykernel)",
   "language": "python",
   "name": "python3"
  },
  "language_info": {
   "codemirror_mode": {
    "name": "ipython",
    "version": 3
   },
   "file_extension": ".py",
   "mimetype": "text/x-python",
   "name": "python",
   "nbconvert_exporter": "python",
   "pygments_lexer": "ipython3",
   "version": "3.9.7"
  }
 },
 "nbformat": 4,
 "nbformat_minor": 5
}
